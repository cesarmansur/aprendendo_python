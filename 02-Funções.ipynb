{
 "cells": [
  {
   "cell_type": "markdown",
   "metadata": {},
   "source": [
    "# Funções"
   ]
  },
  {
   "cell_type": "markdown",
   "metadata": {},
   "source": [
    "Uma função é uma sub-rotina definida previamente com um nome específico e que pode ser chamada em mais de um ponto do programa. Até agora, vimos duas funções:\n",
    "* `print`, que imprime na tela a informação passada.\n",
    "* `type` que obtém o tipo de dado da informação passada.\n",
    "\n",
    "Das vezes que usamos funções, nós passamos um argumento para ela e recebemos o resultado. Por exemplo:"
   ]
  },
  {
   "cell_type": "code",
   "execution_count": null,
   "metadata": {},
   "outputs": [],
   "source": [
    "type(42)"
   ]
  },
  {
   "cell_type": "markdown",
   "metadata": {},
   "source": [
    "Chamamos a função `type` e passamos o argumento `42`. Após a execução da função, ela nos retornou o valor `int`."
   ]
  },
  {
   "cell_type": "markdown",
   "metadata": {},
   "source": [
    "Além de um valor, podemos usar uma variável já definida como argumento da função:"
   ]
  },
  {
   "cell_type": "code",
   "execution_count": null,
   "metadata": {},
   "outputs": [],
   "source": [
    "x = 42\n",
    "type(x)"
   ]
  },
  {
   "cell_type": "markdown",
   "metadata": {},
   "source": [
    "Podemos atribuir o resultado de funções à variáveis:"
   ]
  },
  {
   "cell_type": "code",
   "execution_count": null,
   "metadata": {},
   "outputs": [],
   "source": [
    "meu_tipo = type(x)\n",
    "print(meu_tipo)"
   ]
  },
  {
   "cell_type": "markdown",
   "metadata": {},
   "source": [
    "Algumas funções não retornam nada. Neste caso, ao atribuirmo o resultado da execução destas funções à variáveis, elas recebem o valor especial `None`:"
   ]
  },
  {
   "cell_type": "code",
   "execution_count": null,
   "metadata": {},
   "outputs": [],
   "source": [
    "resultado = print('resultado')"
   ]
  },
  {
   "cell_type": "code",
   "execution_count": null,
   "metadata": {},
   "outputs": [],
   "source": [
    "print(resultado)"
   ]
  },
  {
   "cell_type": "markdown",
   "metadata": {},
   "source": [
    "Assim como as variáveis, as funções devem ter sido definidas previamente para serem executadas. Se não, o Python mostra a exceção `NameError`:"
   ]
  },
  {
   "cell_type": "code",
   "execution_count": null,
   "metadata": {
    "tags": [
     "raises-exception"
    ]
   },
   "outputs": [],
   "source": [
    "minha_funcao()"
   ]
  },
  {
   "cell_type": "markdown",
   "metadata": {},
   "source": [
    "## Definindo funções"
   ]
  },
  {
   "cell_type": "markdown",
   "metadata": {},
   "source": [
    "Assim, há três formas para que as funções sejam definidas:\n",
    "1. Ao iniciar o Python, algumas funcões como `print` já são iniciadas.\n",
    "1. Importando-as.\n",
    "1. Definindo-as nós mesmos."
   ]
  },
  {
   "cell_type": "markdown",
   "metadata": {},
   "source": [
    "### Importando funções"
   ]
  },
  {
   "cell_type": "markdown",
   "metadata": {},
   "source": [
    "É comum estruturar funções similares em módulos, ás vezes também chamadas de bibliotecas. Por exemplo, o Python já vêm com um módulo de funções matemáticas (`math`) que podemos trazer para o escopo da nosso programa. Para isso, devemos usar o comando `import`:"
   ]
  },
  {
   "cell_type": "code",
   "execution_count": null,
   "metadata": {},
   "outputs": [],
   "source": [
    "import math"
   ]
  },
  {
   "cell_type": "code",
   "execution_count": null,
   "metadata": {},
   "outputs": [],
   "source": [
    "math"
   ]
  },
  {
   "cell_type": "markdown",
   "metadata": {},
   "source": [
    "Vemos que o módulo `math` foi importado e para acessar as funções contidas neste módulo, nós usamos a notação de ponto, em que usamos o nome do módulo mais um ponto mais um o nome da função. Por exemplo, para usar a função seno (`sin`), fazemos o seguinte:"
   ]
  },
  {
   "cell_type": "code",
   "execution_count": null,
   "metadata": {},
   "outputs": [],
   "source": [
    "pi = 3.141592653589793\n",
    "math.sin(pi / 2) "
   ]
  },
  {
   "cell_type": "markdown",
   "metadata": {},
   "source": [
    "Aqui, importamos todo o módulo `math`. Pode haver casos em que desejamos importar funções específicas. Desta forma, usamos a seguinte expressão:"
   ]
  },
  {
   "cell_type": "code",
   "execution_count": null,
   "metadata": {},
   "outputs": [],
   "source": [
    "from math import cos # importa a função cosseno do módulo matemático\n",
    "\n",
    "math.cos(pi / 2)"
   ]
  },
  {
   "cell_type": "markdown",
   "metadata": {},
   "source": [
    "Também é possível importar todas as funções do módulo matemático usando o `*`, na forma:\n",
    "\n",
    "```python\n",
    "from math import *\n",
    "```\n",
    "\n",
    "Porém deve ser evitado pois dificulta identificar a origem da função usada e pode escrever funções já definidas:"
   ]
  },
  {
   "cell_type": "markdown",
   "metadata": {},
   "source": [
    "### Definindo funções"
   ]
  },
  {
   "cell_type": "markdown",
   "metadata": {},
   "source": [
    "E é claro que também podemos criar nossas próprias funções. Para isso, usamos a palavra reservada `def`:"
   ]
  },
  {
   "cell_type": "code",
   "execution_count": null,
   "metadata": {},
   "outputs": [],
   "source": [
    "def some(x, y):\n",
    "    resultado = x + y\n",
    "    return resultado\n",
    "    \n",
    "some(2, 3)"
   ]
  },
  {
   "cell_type": "markdown",
   "metadata": {},
   "source": [
    "Apesar da função ser curta, temos muitas coisas acontecendo aqui:\n",
    "1. definimos uma função usando `def` chamada `some`,\n",
    "1. os parênteses são usados para definir argumentos que a função recebe. Neste caso, a função recebe dois argumentos `x` e `y`,\n",
    "1. todo o conteúdo da função está recuado (indentado) em exatos 4 caracteres. Esta é a forma que o Python reconhece o bloco de uma função. Outras linguagens de programação costumar usar parênteses ou chaves.\n",
    "1. calculamos a soma e atribuimos a uma variável. \n",
    "1. retornamos a variável. "
   ]
  },
  {
   "cell_type": "markdown",
   "metadata": {},
   "source": [
    "Também podemos definir funções que não aceitam nenhum argumento de entrada e que não retornam nenhum resultado."
   ]
  },
  {
   "cell_type": "code",
   "execution_count": null,
   "metadata": {},
   "outputs": [],
   "source": [
    "def ola_mundo():\n",
    "    print('Hello, World!')\n",
    "    \n",
    "ola_mundo()"
   ]
  },
  {
   "cell_type": "code",
   "execution_count": null,
   "metadata": {},
   "outputs": [],
   "source": []
  }
 ],
 "metadata": {
  "kernelspec": {
   "display_name": "Python 3",
   "language": "python",
   "name": "python3"
  },
  "language_info": {
   "codemirror_mode": {
    "name": "ipython",
    "version": 3
   },
   "file_extension": ".py",
   "mimetype": "text/x-python",
   "name": "python",
   "nbconvert_exporter": "python",
   "pygments_lexer": "ipython3",
   "version": "3.6.7"
  }
 },
 "nbformat": 4,
 "nbformat_minor": 4
}
